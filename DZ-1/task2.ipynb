{
 "cells": [
  {
   "cell_type": "code",
   "execution_count": 1,
   "id": "a112dd4e",
   "metadata": {},
   "outputs": [],
   "source": [
    "import numpy as np"
   ]
  },
  {
   "cell_type": "code",
   "execution_count": 11,
   "id": "51fb560e",
   "metadata": {},
   "outputs": [
    {
     "data": {
      "text/plain": [
       "array([[1.64414156, 8.57685741],\n",
       "       [7.8341755 , 2.14224077],\n",
       "       [8.39237385, 3.8319447 ],\n",
       "       [6.45415872, 5.33590858],\n",
       "       [4.83257727, 1.20702503],\n",
       "       [8.06923288, 4.41029622],\n",
       "       [2.6004856 , 7.89520298],\n",
       "       [5.94490698, 2.61158194],\n",
       "       [9.67820156, 9.14879203],\n",
       "       [1.60705781, 6.12018677]])"
      ]
     },
     "execution_count": 11,
     "metadata": {},
     "output_type": "execute_result"
    }
   ],
   "source": [
    "dec_coords = 9*np.random.rand(10, 2) + 1\n",
    "dec_coords"
   ]
  },
  {
   "cell_type": "code",
   "execution_count": 12,
   "id": "8bead46f",
   "metadata": {},
   "outputs": [],
   "source": [
    "r = np.sqrt(dec_coords[:, 0]**2 + dec_coords[:, 1]**2)\n",
    "theta = np.arctan2(dec_coords[:, 1], dec_coords[:, 0])"
   ]
  },
  {
   "cell_type": "code",
   "execution_count": 13,
   "id": "ee0327f9",
   "metadata": {},
   "outputs": [
    {
     "data": {
      "text/plain": [
       "array([[ 8.73302264,  1.38139885],\n",
       "       [ 8.12179175,  0.26692289],\n",
       "       [ 9.22581915,  0.42832761],\n",
       "       [ 8.37425131,  0.69083425],\n",
       "       [ 4.98103528,  0.24476066],\n",
       "       [ 9.19582688,  0.50019604],\n",
       "       [ 8.31244581,  1.25261214],\n",
       "       [ 6.49324874,  0.41391805],\n",
       "       [13.31795709,  0.75728586],\n",
       "       [ 6.32766315,  1.31401023]])"
      ]
     },
     "execution_count": 13,
     "metadata": {},
     "output_type": "execute_result"
    }
   ],
   "source": [
    "polar_coords = np.column_stack((r, theta))\n",
    "polar_coords"
   ]
  },
  {
   "cell_type": "code",
   "execution_count": 19,
   "id": "9ff63f96",
   "metadata": {},
   "outputs": [
    {
     "data": {
      "text/plain": [
       "array([[1.45921304, 6.00055794, 4.39595729, 2.79779945, 7.78383982],\n",
       "       [7.53988762, 7.16227884, 7.53703902, 4.3507132 , 4.07463362],\n",
       "       [5.59857892, 3.82203844, 4.74466279, 7.47265386, 1.45501164],\n",
       "       [6.21965154, 1.90256471, 7.06068966, 7.13237322, 4.34525112],\n",
       "       [7.92324322, 3.47913783, 6.57006698, 5.56913313, 1.46134064],\n",
       "       [6.41288903, 9.11630222, 9.74953443, 2.48660389, 4.52990049],\n",
       "       [3.42303132, 9.6700192 , 3.6678107 , 2.42783128, 8.13630897],\n",
       "       [5.46972014, 9.63335347, 2.85510554, 5.51013239, 6.95769612]])"
      ]
     },
     "execution_count": 19,
     "metadata": {},
     "output_type": "execute_result"
    }
   ],
   "source": [
    "n = np.random.randint(1, 10)\n",
    "m = np.random.randint(1, 10)\n",
    "matrix = 9*np.random.rand(n, m) + 1\n",
    "matrix"
   ]
  },
  {
   "cell_type": "code",
   "execution_count": 20,
   "id": "3e28a806",
   "metadata": {},
   "outputs": [
    {
     "data": {
      "text/plain": [
       "5"
      ]
     },
     "execution_count": 20,
     "metadata": {},
     "output_type": "execute_result"
    }
   ],
   "source": [
    "rank = np.linalg.matrix_rank(matrix)\n",
    "rank"
   ]
  },
  {
   "cell_type": "code",
   "execution_count": 26,
   "id": "341c2ce3",
   "metadata": {},
   "outputs": [
    {
     "name": "stdout",
     "output_type": "stream",
     "text": [
      "u = [[-0.3863177  -0.92236578]\n",
      " [-0.92236578  0.3863177 ]]\n",
      "s = [9.508032   0.77286964]\n",
      "v = [[-0.42866713 -0.56630692 -0.7039467 ]\n",
      " [ 0.80596391  0.11238241 -0.58119908]\n",
      " [ 0.40824829 -0.81649658  0.40824829]]\n"
     ]
    }
   ],
   "source": [
    "matrix = np.loadtxt('matrix.txt')\n",
    "u,s,v=np.linalg.svd(matrix, compute_uv=True)\n",
    "print(f\"u = {u}\")\n",
    "print(f\"s = {s}\")\n",
    "print(f\"v = {v}\")"
   ]
  }
 ],
 "metadata": {
  "kernelspec": {
   "display_name": "Python 3 (ipykernel)",
   "language": "python",
   "name": "python3"
  },
  "language_info": {
   "codemirror_mode": {
    "name": "ipython",
    "version": 3
   },
   "file_extension": ".py",
   "mimetype": "text/x-python",
   "name": "python",
   "nbconvert_exporter": "python",
   "pygments_lexer": "ipython3",
   "version": "3.10.4"
  }
 },
 "nbformat": 4,
 "nbformat_minor": 5
}
